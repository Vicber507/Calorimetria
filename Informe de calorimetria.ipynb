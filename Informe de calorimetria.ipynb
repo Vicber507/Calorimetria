{
 "cells": [
  {
   "cell_type": "markdown",
   "metadata": {},
   "source": [
    "# Calor Especifico y Capacidad calorifica\n",
    "**Víctor Bernal $^1$ 8-1022-243**<br>\n",
    "**Oliver Lira $^1$ 6-725-1136**<br>\n",
    "**Jhaan Arrieta $^1$ 8-946-1923**<br>\n",
    "**Marco Gamboa $^1$ Ec-38-711**\n",
    "\n",
    "**Facultad de Ciencias Naturales, Exactas y Tecnología $^1$**  \n",
    "**Universidad de Panamá**  \n"
   ]
  },
  {
   "cell_type": "markdown",
   "metadata": {},
   "source": [
    "## RESUMEN\n",
    "En este informe se presenta la determinación del calor específico y la capacidad calorífica de distintos metales utilizando un enfoque experimental basado en el principio del equilibrio térmico. Para ello, se emplea un calorímetro y agua como sustancia de referencia, aprovechando su calor específico conocido. El experimento consiste en calentar el metal y luego sumergirlo en el agua contenida en el calorímetro, registrando las temperaturas hasta alcanzar el equilibrio térmico. En ese punto, la cantidad de calor cedida por el metal es igual a la cantidad de calor absorbida por el agua. Este procedimiento permite calcular tanto el calor específico como la capacidad calorífica de los metales, fundamentales para caracterizar sus propiedades térmicas. Los resultados obtenidos tienen aplicaciones en múltiples áreas, como la ingeniería de materiales y la física térmica, donde el comportamiento de los metales bajo cambios de temperatura es crucial para su uso en diversas tecnologías.\n"
   ]
  },
  {
   "cell_type": "markdown",
   "metadata": {},
   "source": [
    "## OBJETIVOS\n",
    "- Determinar el calor específico de diferentes materiales sólidos.  \n",
    "- Demostrar que el calor específico es una propiedad intensiva."
   ]
  },
  {
   "cell_type": "markdown",
   "metadata": {},
   "source": [
    "# INTRODUCCIÓN\n",
    "\n",
    "Las propiedades de un sistema son cualquier característica asociada a este, por ejemplo, la presión, temperatura, volumen y masa. Al hacer énfasis en las propiedades de un material, quedan claros dos grandes tipos:\n",
    "- **Intensivas**\n",
    "- **Extensivas**\n",
    "\n",
    "Una propiedad es intensiva si es independiente de la masa de un sistema. Para la segunda parte de este trabajo se verifica que, en efecto, el calor específico es una propiedad intensiva. \n",
    "\n",
    "Para definir las propiedades de un sistema no debemos experimentar ningún cambio, ya que, así todas las propiedades se pueden medir, calcular y describir por completo sus condiciones. A esto se le llama el **estado de un sistema**. \n",
    "\n",
    "La termodinámica trata con estados en equilibrio. Para nuestra experiencia es primordial que el sistema se encuentre en **equilibrio térmico**, de tal manera que asumimos que la temperatura del material durante el proceso de ebullición del agua es su **temperatura inicial**. Por otro lado, la temperatura de equilibrio que tendrá al colocar el material en el calorímetro, que contiene el agua a temperatura ambiente, después de la transferencia de calor, es su **temperatura final**.\n",
    "\n",
    "La **calorimetría** es un método para medir de forma precisa el calor transferido en un proceso. Para ello, se emplea un instrumento llamado **calorímetro**, el cual, al ser un recipiente aislado, reduce al mínimo la pérdida de calor hacia el ambiente. En un experimento calorimétrico, el calor se conserva si los cuerpos experimentales están encerrados **adiabáticamente**.\n",
    "\n",
    "Dentro de nuestra experiencia se asume que nuestro calorímetro es un **sistema cerrado** donde se mantiene una cantidad fija de masa y ninguna otra puede cruzar su frontera. En términos físicos, un sistema cerrado experimenta un ciclo donde los estados iniciales y finales son idénticos, por lo tanto, no se tiene flujo másico en sus fronteras.\n",
    "\n",
    "A lo largo de la transferencia de calor, la energía de las moléculas aumenta; esto, a su vez, incrementa la energía del sistema. La relevancia de lo anterior con la **primera ley de la termodinámica** radica en la existencia y definición de la energía total del sistema (∆E_sistema).\n",
    "\n",
    "De esta manera, se reafirma que, en un proceso real tanto la masa como la energía se conservan. Los balances energéticos de cualquier sistema que experimente un proceso pueden expresarse de la siguiente forma:\n",
    "\n",
    "\n",
    "### Balance de energía\n",
    "\n",
    "\n",
    "\n",
    "Se asume un sistema donde se conserva la energía, por lo tanto, los cambios en esta son iguales a cero ($\\Delta E_{sistema} = 0$):\n",
    "\n",
    "$$\n",
    "E_{entrada} = E_{salida} \\tag{2}\n",
    "$$\n",
    "\n",
    "\n",
    "Durante la experiencia realizada, es necesario tener claro el concepto de **calor específico**, que se define como:\n",
    "\n",
    "> “La energía requerida para elevar en un grado la temperatura de una unidad de masa de una sustancia”.\n",
    "\n",
    "La definición matemática del calor específico es:\n",
    "\n",
    "$$\n",
    "Q = mc\\Delta T \\tag{3}\n",
    "$$\n",
    "\n",
    "\n",
    "Donde:\n",
    "- $Q$: Es el calor transferido o cedido en Joules (J).\n",
    "- $m$: La masa del material en kilogramos (kg).\n",
    "- $c$: El calor específico asociado al material en J/(kg·K).\n",
    "- $\\Delta T$: Cambio en la temperatura hasta su temperatura de equilibrio en Kelvin (K).\n",
    "\n",
    "La energía que estamos evaluando es el calor, y al despejar el calor específico del material ($Q_{material}$) usando la ecuación (2), obtenemos la siguiente expresión:\n",
    "\n",
    "$$\n",
    "c_{material} = c_{agua} \\left( \\frac{m_{agua}}{M_{solido}} \\right) \\left( \\frac{T_{agua} - T_{equilibrio}}{T_{equilibrio} - T_{material}} \\right) \\tag{4}\n",
    "$$\n",
    "\n",
    "\n",
    "De forma general, la actividad experimental consiste en determinar el calor especifico y está dividida en dos puntos. Primero, al tener diversos materiales sin variar la masa, y segundo, al tener iguales materiales con diferentes valores de masas. En ambos casos se hace uso de la ecuación (4).\n",
    "\n",
    "\n"
   ]
  },
  {
   "cell_type": "markdown",
   "metadata": {},
   "source": [
    "# PROCEDIMIENTO\n",
    "\n",
    "## PRIMERA PARTE \n",
    "\n",
    "Para determinar el calor específico indirectamente se necesita un sistema donde se puede realizar la transferencia de calor sin considerar el exterior. El calorímetro es una perfecta herramienta para estos tipos de casos. Además, se emplearon vasos químicos donde se depositaba y se regulaba la cantidad de agua asociada al calorímetro. Con respecto a la medición de la masa se vio necesaria una balanza electrónica, la cual nos brinda la información puntual de la masa con dos decimales de precisión. Por otro lado, se usó una plancha electrónica sobre la cual se coloca un vaso metálico donde se vertía el agua, responsables del proceso de ebullición. Para la medida de la temperatura durante toda la experiencia se dispuso de un sensor de temperatura PASCO. \n",
    "\n",
    "La actividad experimental consiste en realizar la medición de la cantidad de agua que se deposita en el calorímetro. Para el modelo de calorímetro imagen (1) establecer más de 400 ml donde debería ser lo indicado para una medición pertinente con el sensor de temperatura. \n",
    "\n",
    "Se tenían 4 materiales donde no se conocía su denominación correcta y para cuestión de etiqueta fueron nombrados por su color. Información que puede observarla en la imagen (2).\n",
    "\n",
    "Con los materiales a disposición se realiza el control de variables pertinentes: Donde al cambiar el material deben presentarse valores de calor específicos distintos, por tanto, el procedimiento que se hará mención fue utilizado para todos los materiales. \n",
    "\n",
    "Primeramente, se mide la cantidad de masa del material en gramos según la balanza. Se vierte agua en el vaso metálico y se somete al calor de la plancha para llevar el agua a la temperatura lo más cercana a la ebullición teórica. Para nuestros casos se encontraban dentro de los valores de 96 a 99°C cuestión que es relativamente normal. Al llegar a las temperaturas mencionadas anteriormente se deposita el material de prueba considerado y se deja aproximadamente 5 minutos para una perfecta transferencia de calor entre el agua hirviendo y el material. Posteriormente, se remueve el material del agua caliente y se lleva rápidamente al calorímetro donde recordemos que su temperatura interna debe ser la temperatura ambiente del agua vertida y por último, se coloca el termómetro PASCO donde se puede visualizar en tiempo real la temperatura durante el equilibrio. Estos valores se encuentran tabulados y ordenados en la **Tabla 1**.\n",
    "\n",
    "## SEGUNDA PARTE\n",
    "\n",
    "En base al planteamiento de la experiencia de la primera parte ahora en lugar de realizar cambios en el material, se realizan cambios en la cantidad de masa. Inicialmente se tiene una masa de **100.19 g** (0.10019 kg) hasta una masa final de **300.3 g** (0.3003 kg). Estos valores se encuentran en la **Tabla 2**.\n"
   ]
  },
  {
   "cell_type": "markdown",
   "metadata": {},
   "source": [
    "## ANALISIS Y RESULTADO"
   ]
  },
  {
   "cell_type": "markdown",
   "metadata": {},
   "source": [
    "## PRIMERA PARTE "
   ]
  },
  {
   "cell_type": "code",
   "execution_count": 14,
   "metadata": {},
   "outputs": [
    {
     "data": {
      "text/html": [
       "<div>\n",
       "<style scoped>\n",
       "    .dataframe tbody tr th:only-of-type {\n",
       "        vertical-align: middle;\n",
       "    }\n",
       "\n",
       "    .dataframe tbody tr th {\n",
       "        vertical-align: top;\n",
       "    }\n",
       "\n",
       "    .dataframe thead th {\n",
       "        text-align: right;\n",
       "    }\n",
       "</style>\n",
       "<table border=\"1\" class=\"dataframe\">\n",
       "  <thead>\n",
       "    <tr style=\"text-align: right;\">\n",
       "      <th></th>\n",
       "      <th>Material(Color)</th>\n",
       "      <th>Masa (g)</th>\n",
       "      <th>Desp. Vol (m^3)</th>\n",
       "      <th>Vol. med (m^3)</th>\n",
       "      <th>Tfcm (K)</th>\n",
       "      <th>Ticm (K)</th>\n",
       "      <th>Tfsm (K)</th>\n",
       "      <th>Tism (K)</th>\n",
       "    </tr>\n",
       "  </thead>\n",
       "  <tbody>\n",
       "    <tr>\n",
       "      <th>0</th>\n",
       "      <td>dorado</td>\n",
       "      <td>75.1</td>\n",
       "      <td>0.000009</td>\n",
       "      <td>0.000008</td>\n",
       "      <td>304.15</td>\n",
       "      <td>372.15</td>\n",
       "      <td>305.15</td>\n",
       "      <td>373.15</td>\n",
       "    </tr>\n",
       "    <tr>\n",
       "      <th>1</th>\n",
       "      <td>cobrizo</td>\n",
       "      <td>79.8</td>\n",
       "      <td>0.000009</td>\n",
       "      <td>0.000009</td>\n",
       "      <td>303.15</td>\n",
       "      <td>373.15</td>\n",
       "      <td>306.15</td>\n",
       "      <td>373.15</td>\n",
       "    </tr>\n",
       "    <tr>\n",
       "      <th>2</th>\n",
       "      <td>plateado</td>\n",
       "      <td>69.2</td>\n",
       "      <td>0.000008</td>\n",
       "      <td>0.000008</td>\n",
       "      <td>305.15</td>\n",
       "      <td>373.15</td>\n",
       "      <td>306.15</td>\n",
       "      <td>373.15</td>\n",
       "    </tr>\n",
       "    <tr>\n",
       "      <th>3</th>\n",
       "      <td>roca</td>\n",
       "      <td>24.9</td>\n",
       "      <td>0.000008</td>\n",
       "      <td>0.000008</td>\n",
       "      <td>304.15</td>\n",
       "      <td>373.15</td>\n",
       "      <td>304.15</td>\n",
       "      <td>373.15</td>\n",
       "    </tr>\n",
       "    <tr>\n",
       "      <th>4</th>\n",
       "      <td>Agua</td>\n",
       "      <td>406.0</td>\n",
       "      <td>NaN</td>\n",
       "      <td>NaN</td>\n",
       "      <td>NaN</td>\n",
       "      <td>NaN</td>\n",
       "      <td>NaN</td>\n",
       "      <td>NaN</td>\n",
       "    </tr>\n",
       "  </tbody>\n",
       "</table>\n",
       "</div>"
      ],
      "text/plain": [
       "  Material(Color)  Masa (g)  Desp. Vol (m^3)  Vol. med (m^3)  Tfcm (K)  \\\n",
       "0          dorado      75.1         0.000009        0.000008    304.15   \n",
       "1         cobrizo      79.8         0.000009        0.000009    303.15   \n",
       "2        plateado      69.2         0.000008        0.000008    305.15   \n",
       "3            roca      24.9         0.000008        0.000008    304.15   \n",
       "4            Agua     406.0              NaN             NaN       NaN   \n",
       "\n",
       "   Ticm (K)  Tfsm (K)  Tism (K)  \n",
       "0    372.15    305.15    373.15  \n",
       "1    373.15    306.15    373.15  \n",
       "2    373.15    306.15    373.15  \n",
       "3    373.15    304.15    373.15  \n",
       "4       NaN       NaN       NaN  "
      ]
     },
     "execution_count": 14,
     "metadata": {},
     "output_type": "execute_result"
    }
   ],
   "source": [
    "import pandas as pd\n",
    "import numpy as np\n",
    "df = pd.read_csv('materiales.csv')\n",
    "df\n"
   ]
  },
  {
   "cell_type": "markdown",
   "metadata": {},
   "source": [
    "**Tabla 1** : datos completos de la experiencia donde\n",
    "- **Material**: descripcion del material por color\n",
    "- **Masa: Masa** en gramos del material\n",
    "- **Desp. Vol**: volumen desplazado por el material en agua\n",
    "- **Vol. med**: volumen medido con regla.\n",
    "- **Tfcm**: Temperatura final con malla\n",
    "- **Ticm** Temperatura inicial con malla\n",
    "- **Tfsm**: Temperatura final sin malla\n",
    "- **Tism**: Temperatura inicial sin malla "
   ]
  },
  {
   "cell_type": "markdown",
   "metadata": {},
   "source": [
    "Para obtener las densidades $\\rho$ usamos los dos valores de volumen que medimos para cada uno"
   ]
  },
  {
   "cell_type": "code",
   "execution_count": 15,
   "metadata": {},
   "outputs": [],
   "source": [
    "density = np.empty((4, 2))\n",
    "for i in range(4):\n",
    "    density[i][0] = (df.iloc[i][\"Masa (g)\"]/df.iloc[i][\"Desp. Vol (m^3)\"])*0.000001\n",
    "    density[i][1] = (df.iloc[i][\"Masa (g)\"]/df.iloc[i][\"Vol. med (m^3)\"])*0.000001"
   ]
  },
  {
   "cell_type": "code",
   "execution_count": 16,
   "metadata": {},
   "outputs": [
    {
     "data": {
      "text/plain": [
       "array([[8.34444444, 9.4703657 ],\n",
       "       [8.86666667, 9.3442623 ],\n",
       "       [8.65      , 8.30732293],\n",
       "       [3.1125    , 2.99638989]])"
      ]
     },
     "execution_count": 16,
     "metadata": {},
     "output_type": "execute_result"
    }
   ],
   "source": [
    "density"
   ]
  },
  {
   "cell_type": "markdown",
   "metadata": {},
   "source": [
    "Cada fila es un material y cada columan una de las densidades calculadas"
   ]
  },
  {
   "cell_type": "code",
   "execution_count": 17,
   "metadata": {},
   "outputs": [
    {
     "name": "stdout",
     "output_type": "stream",
     "text": [
      "Densidad media del material 1 = 8.90740507215917 kg/m³\n",
      "Densidad media del material 2 = 9.105464480874316 kg/m³\n",
      "Densidad media del material 3 = 8.478661464585834 kg/m³\n",
      "Densidad media del material 4 = 3.054444945848375 kg/m³\n"
     ]
    }
   ],
   "source": [
    "Prom = np.empty(4)\n",
    "for i in range(4):\n",
    "    Prom[i] = (density[i][0]+density[i][1])/2\n",
    "    print(f\"Densidad media del material {i} = {(Prom[i]} kg/m³\")"
   ]
  },
  {
   "cell_type": "markdown",
   "metadata": {},
   "source": [
    "con estos datos identificamos que posiblemente sean (0) Latón, (1) Cobre, (2) HIerro, (3) Aluminio"
   ]
  },
  {
   "cell_type": "code",
   "execution_count": 18,
   "metadata": {},
   "outputs": [],
   "source": [
    "materiales = [\"Latón\",\"Cobre\",\"Hierro\",\"Aluminio\",]"
   ]
  },
  {
   "cell_type": "markdown",
   "metadata": {},
   "source": [
    "Sabemos que $ Q^{+} = Q^{-}$ en este caso el agua gana calor y el material en el calorimetro la pierde, entonces\n",
    "\n",
    " - $ m_{agua}\\cdot \\overline{c}_{agua} \\cdot\\Delta T_{agua} = m_{masa}\\cdot \\overline{c}_{masa} \\cdot\\Delta T_{masa} $\n",
    "\n",
    "\n",
    " - $ \\frac{m_{agua}\\cdot \\overline{c}_{agua} \\cdot\\Delta T_{agua}}{m_{masa}\\cdot \\Delta T_{masa}} = \\overline{c}_{masa}$"
   ]
  },
  {
   "cell_type": "code",
   "execution_count": 19,
   "metadata": {},
   "outputs": [
    {
     "name": "stdout",
     "output_type": "stream",
     "text": [
      "Calor especifico del Latón c/m = 1.663973525495418 J/g*K\n",
      "Calor especifico del Cobre c/m = 1.2169824561403508 J/g*K\n",
      "Calor especifico del Hierro c/m = 2.1670129207752464 J/g*K\n",
      "Calor especifico del Aluminio c/m = 4.945917001338688 J/g*K\n"
     ]
    }
   ],
   "source": [
    "for i in range(4):\n",
    "    Calor_especifico = (df.iloc[4][\"Masa (g)\"]*4.186* (df.iloc[i][\"Tfcm (K)\"]- 299.15))/(df.iloc[i][\"Masa (g)\"]*(df.iloc[i][\"Ticm (K)\"]-df.iloc[i][\"Tfcm (K)\"]))\n",
    "    print(f\"Calor especifico del {materiales [i]} c/m = {Calor_especifico} J/g*K\")"
   ]
  },
  {
   "cell_type": "code",
   "execution_count": 20,
   "metadata": {},
   "outputs": [
    {
     "name": "stdout",
     "output_type": "stream",
     "text": [
      "Calor especifico del Latón s/m = 1.996768230594502 J/g*K\n",
      "Calor especifico del Cobre s/m = 2.2250798638387015 J/g*K\n",
      "Calor especifico del Hierro s/m = 2.565915796738849 J/g*K\n",
      "Calor especifico del Aluminio s/m = 4.945917001338688 J/g*K\n"
     ]
    }
   ],
   "source": [
    "for i in range(4):\n",
    "    Calor_especifico = (df.iloc[4][\"Masa (g)\"]*4.186* (df.iloc[i][\"Tfsm (K)\"]- 299.15))/(df.iloc[i][\"Masa (g)\"]*(df.iloc[i][\"Tism (K)\"]-df.iloc[i][\"Tfsm (K)\"]))\n",
    "    print(f\"Calor especifico del {materiales [i]} s/m = {Calor_especifico} J/g*K\")"
   ]
  },
  {
   "cell_type": "markdown",
   "metadata": {},
   "source": [
    "## SEGUNDA PARTE"
   ]
  },
  {
   "cell_type": "code",
   "execution_count": 21,
   "metadata": {
    "scrolled": true
   },
   "outputs": [
    {
     "data": {
      "text/html": [
       "<div>\n",
       "<style scoped>\n",
       "    .dataframe tbody tr th:only-of-type {\n",
       "        vertical-align: middle;\n",
       "    }\n",
       "\n",
       "    .dataframe tbody tr th {\n",
       "        vertical-align: top;\n",
       "    }\n",
       "\n",
       "    .dataframe thead th {\n",
       "        text-align: right;\n",
       "    }\n",
       "</style>\n",
       "<table border=\"1\" class=\"dataframe\">\n",
       "  <thead>\n",
       "    <tr style=\"text-align: right;\">\n",
       "      <th></th>\n",
       "      <th>Datos</th>\n",
       "      <th>PRIMER CUERPO</th>\n",
       "      <th>SEGUNDO CUERPO</th>\n",
       "      <th>TERCER CUERPO</th>\n",
       "      <th>CUARTO CUERPO</th>\n",
       "      <th>QUINTO CUERPO</th>\n",
       "    </tr>\n",
       "  </thead>\n",
       "  <tbody>\n",
       "    <tr>\n",
       "      <th>0</th>\n",
       "      <td>Masas (kg)</td>\n",
       "      <td>0.10019</td>\n",
       "      <td>0.15036</td>\n",
       "      <td>0.20026</td>\n",
       "      <td>0.25028</td>\n",
       "      <td>0.3003</td>\n",
       "    </tr>\n",
       "    <tr>\n",
       "      <th>1</th>\n",
       "      <td>T inicial material(K)</td>\n",
       "      <td>372.75000</td>\n",
       "      <td>372.55000</td>\n",
       "      <td>373.25000</td>\n",
       "      <td>372.55000</td>\n",
       "      <td>372.2500</td>\n",
       "    </tr>\n",
       "    <tr>\n",
       "      <th>2</th>\n",
       "      <td>T inicial agua (K)</td>\n",
       "      <td>301.05000</td>\n",
       "      <td>303.25000</td>\n",
       "      <td>304.45000</td>\n",
       "      <td>303.95000</td>\n",
       "      <td>304.8500</td>\n",
       "    </tr>\n",
       "    <tr>\n",
       "      <th>3</th>\n",
       "      <td>T final agua equilibrio (K)</td>\n",
       "      <td>305.75000</td>\n",
       "      <td>307.95000</td>\n",
       "      <td>309.85000</td>\n",
       "      <td>310.25000</td>\n",
       "      <td>312.6500</td>\n",
       "    </tr>\n",
       "    <tr>\n",
       "      <th>4</th>\n",
       "      <td>Masas agua (kg)</td>\n",
       "      <td>0.38931</td>\n",
       "      <td>NaN</td>\n",
       "      <td>NaN</td>\n",
       "      <td>NaN</td>\n",
       "      <td>NaN</td>\n",
       "    </tr>\n",
       "  </tbody>\n",
       "</table>\n",
       "</div>"
      ],
      "text/plain": [
       "                         Datos  PRIMER CUERPO  SEGUNDO CUERPO  TERCER CUERPO  \\\n",
       "0                   Masas (kg)        0.10019         0.15036        0.20026   \n",
       "1        T inicial material(K)      372.75000       372.55000      373.25000   \n",
       "2           T inicial agua (K)      301.05000       303.25000      304.45000   \n",
       "3  T final agua equilibrio (K)      305.75000       307.95000      309.85000   \n",
       "4              Masas agua (kg)        0.38931             NaN            NaN   \n",
       "\n",
       "   CUARTO CUERPO  QUINTO CUERPO  \n",
       "0        0.25028         0.3003  \n",
       "1      372.55000       372.2500  \n",
       "2      303.95000       304.8500  \n",
       "3      310.25000       312.6500  \n",
       "4            NaN            NaN  "
      ]
     },
     "execution_count": 21,
     "metadata": {},
     "output_type": "execute_result"
    }
   ],
   "source": [
    "import pandas as pd \n",
    "\n",
    "df_2 = pd.read_csv(\"tabla_cuerpos.csv\")\n",
    "df_2"
   ]
  },
  {
   "cell_type": "code",
   "execution_count": 22,
   "metadata": {},
   "outputs": [
    {
     "name": "stdout",
     "output_type": "stream",
     "text": [
      "Calor especifico del cuerpo 1 = 1140.2027984143533\n",
      "Calor especifico del cuerpo 2 = 787.9822719590608\n",
      "Calor especifico del cuerpo 3 = 692.6179044529224\n",
      "Calor especifico del cuerpo 4 = 657.9755873421777\n",
      "Calor especifico del cuerpo 5 = 709.7026627734638\n"
     ]
    }
   ],
   "source": [
    "s_h = np.empty(5)\n",
    "masas = np.empty(5)\n",
    "for i in range(5):\n",
    "    Calores = (0.38931 * 4183 / df_2.iloc[0, i+1]) * ((df_2.iloc[2, i+1] - df_2.iloc[3, i+1]) / (df_2.iloc[3, i+1] - df_2.iloc[1, i+1]))\n",
    "    s_h[i] = Calores\n",
    "    masas[i] = df_2.iloc[0, i+1]\n",
    "    print(f\"Calor especifico del cuerpo {i+1} = {Calores}\")"
   ]
  },
  {
   "cell_type": "code",
   "execution_count": 28,
   "metadata": {},
   "outputs": [
    {
     "data": {
      "image/png": "[encoded data removed]",
      "text/plain": [
       "<Figure size 640x480 with 1 Axes>"
      ]
     },
     "metadata": {},
     "output_type": "display_data"
    }
   ],
   "source": [
    "import matplotlib.pyplot as plt\n",
    "\n",
    "\n",
    "errores = [84.11, 64.41, 52.52, 45.91]\n",
    "\n",
    "plt.xlabel('Masa (kg)')\n",
    "plt.ylabel('Calor Específico (J/kg·K)')\n",
    "plt.title('Calor Específico vs Masa')\n",
    "plt.ylim(0, 2000)\n",
    "plt.grid(True)\n",
    "plt.errorbar(masas[1:], s_h[1:], yerr=errores, fmt='o', color='b', ecolor='gray', elinewidth=2, capsize=5)\n",
    "plt.axhline(y=686.76, color='r', linestyle='--', label='y = 686.76')\n",
    "\n",
    "plt.show()"
   ]
  },
  {
   "cell_type": "code",
   "execution_count": null,
   "metadata": {},
   "outputs": [],
   "source": []
  }
 ],
 "metadata": {
  "kernelspec": {
   "display_name": "termo",
   "language": "python",
   "name": "python3"
  },
  "language_info": {
   "codemirror_mode": {
    "name": "ipython",
    "version": 3
   },
   "file_extension": ".py",
   "mimetype": "text/x-python",
   "name": "python",
   "nbconvert_exporter": "python",
   "pygments_lexer": "ipython3",
   "version": "3.12.4"
  }
 },
 "nbformat": 4,
 "nbformat_minor": 4
}
